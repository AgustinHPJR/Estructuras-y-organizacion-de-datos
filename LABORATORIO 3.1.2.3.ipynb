{
 "cells": [
  {
   "cell_type": "code",
   "execution_count": null,
   "metadata": {},
   "outputs": [],
   "source": [
    "In [2]:\n",
    "numeroSecreto = 3\n",
    "print(\n",
    "\"\"\"\n",
    "+=====================+\n",
    "/ Bienvenido a mi juego, muggle!\n",
    "/ Introduce un numero entero\n",
    "/ y adivina que numero es\n",
    "/ elegido para ti.\n",
    "/ ¿Cual es el numero secreto?\n",
    "+=====================+\n",
    "\"\"\")\n",
    "a = int(input())\n",
    "if a == numeroSecreto:\n",
    "    print(\"¡Bien hecho,muggle! ¡Estas atrapado en mi ciclo!\")\n",
    "+=====================+\n",
    "/ Bienvenido a mi juego, muggle!\n",
    "/ Introduce un numero entero\n",
    "/ y adivina que numero es\n",
    "/ elegido para ti.\n",
    "/ ¿Cual es el numero secreto?\n",
    "+=====================+\n",
    "\n",
    "¡Bien hecho,muggle! ¡Estas atrapado en mi ciclo!\n",
    "In [ ]:\n"
   ]
  }
 ],
 "metadata": {
  "kernelspec": {
   "display_name": "Python 3",
   "language": "python",
   "name": "python3"
  },
  "language_info": {
   "codemirror_mode": {
    "name": "ipython",
    "version": 3
   },
   "file_extension": ".py",
   "mimetype": "text/x-python",
   "name": "python",
   "nbconvert_exporter": "python",
   "pygments_lexer": "ipython3",
   "version": "3.8.3"
  }
 },
 "nbformat": 4,
 "nbformat_minor": 4
}
